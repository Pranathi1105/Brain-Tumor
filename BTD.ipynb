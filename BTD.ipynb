{
 "cells": [
  {
   "cell_type": "code",
   "execution_count": 1,
   "metadata": {},
   "outputs": [
    {
     "name": "stderr",
     "output_type": "stream",
     "text": [
      "C:\\Users\\sridi\\anaconda3\\envs\\tensorflow\\lib\\site-packages\\tensorflow\\python\\framework\\dtypes.py:516: FutureWarning: Passing (type, 1) or '1type' as a synonym of type is deprecated; in a future version of numpy, it will be understood as (type, (1,)) / '(1,)type'.\n",
      "  _np_qint8 = np.dtype([(\"qint8\", np.int8, 1)])\n",
      "C:\\Users\\sridi\\anaconda3\\envs\\tensorflow\\lib\\site-packages\\tensorflow\\python\\framework\\dtypes.py:517: FutureWarning: Passing (type, 1) or '1type' as a synonym of type is deprecated; in a future version of numpy, it will be understood as (type, (1,)) / '(1,)type'.\n",
      "  _np_quint8 = np.dtype([(\"quint8\", np.uint8, 1)])\n",
      "C:\\Users\\sridi\\anaconda3\\envs\\tensorflow\\lib\\site-packages\\tensorflow\\python\\framework\\dtypes.py:518: FutureWarning: Passing (type, 1) or '1type' as a synonym of type is deprecated; in a future version of numpy, it will be understood as (type, (1,)) / '(1,)type'.\n",
      "  _np_qint16 = np.dtype([(\"qint16\", np.int16, 1)])\n",
      "C:\\Users\\sridi\\anaconda3\\envs\\tensorflow\\lib\\site-packages\\tensorflow\\python\\framework\\dtypes.py:519: FutureWarning: Passing (type, 1) or '1type' as a synonym of type is deprecated; in a future version of numpy, it will be understood as (type, (1,)) / '(1,)type'.\n",
      "  _np_quint16 = np.dtype([(\"quint16\", np.uint16, 1)])\n",
      "C:\\Users\\sridi\\anaconda3\\envs\\tensorflow\\lib\\site-packages\\tensorflow\\python\\framework\\dtypes.py:520: FutureWarning: Passing (type, 1) or '1type' as a synonym of type is deprecated; in a future version of numpy, it will be understood as (type, (1,)) / '(1,)type'.\n",
      "  _np_qint32 = np.dtype([(\"qint32\", np.int32, 1)])\n",
      "C:\\Users\\sridi\\anaconda3\\envs\\tensorflow\\lib\\site-packages\\tensorflow\\python\\framework\\dtypes.py:525: FutureWarning: Passing (type, 1) or '1type' as a synonym of type is deprecated; in a future version of numpy, it will be understood as (type, (1,)) / '(1,)type'.\n",
      "  np_resource = np.dtype([(\"resource\", np.ubyte, 1)])\n",
      "C:\\Users\\sridi\\anaconda3\\envs\\tensorflow\\lib\\site-packages\\tensorboard\\compat\\tensorflow_stub\\dtypes.py:541: FutureWarning: Passing (type, 1) or '1type' as a synonym of type is deprecated; in a future version of numpy, it will be understood as (type, (1,)) / '(1,)type'.\n",
      "  _np_qint8 = np.dtype([(\"qint8\", np.int8, 1)])\n",
      "C:\\Users\\sridi\\anaconda3\\envs\\tensorflow\\lib\\site-packages\\tensorboard\\compat\\tensorflow_stub\\dtypes.py:542: FutureWarning: Passing (type, 1) or '1type' as a synonym of type is deprecated; in a future version of numpy, it will be understood as (type, (1,)) / '(1,)type'.\n",
      "  _np_quint8 = np.dtype([(\"quint8\", np.uint8, 1)])\n",
      "C:\\Users\\sridi\\anaconda3\\envs\\tensorflow\\lib\\site-packages\\tensorboard\\compat\\tensorflow_stub\\dtypes.py:543: FutureWarning: Passing (type, 1) or '1type' as a synonym of type is deprecated; in a future version of numpy, it will be understood as (type, (1,)) / '(1,)type'.\n",
      "  _np_qint16 = np.dtype([(\"qint16\", np.int16, 1)])\n",
      "C:\\Users\\sridi\\anaconda3\\envs\\tensorflow\\lib\\site-packages\\tensorboard\\compat\\tensorflow_stub\\dtypes.py:544: FutureWarning: Passing (type, 1) or '1type' as a synonym of type is deprecated; in a future version of numpy, it will be understood as (type, (1,)) / '(1,)type'.\n",
      "  _np_quint16 = np.dtype([(\"quint16\", np.uint16, 1)])\n",
      "C:\\Users\\sridi\\anaconda3\\envs\\tensorflow\\lib\\site-packages\\tensorboard\\compat\\tensorflow_stub\\dtypes.py:545: FutureWarning: Passing (type, 1) or '1type' as a synonym of type is deprecated; in a future version of numpy, it will be understood as (type, (1,)) / '(1,)type'.\n",
      "  _np_qint32 = np.dtype([(\"qint32\", np.int32, 1)])\n",
      "C:\\Users\\sridi\\anaconda3\\envs\\tensorflow\\lib\\site-packages\\tensorboard\\compat\\tensorflow_stub\\dtypes.py:550: FutureWarning: Passing (type, 1) or '1type' as a synonym of type is deprecated; in a future version of numpy, it will be understood as (type, (1,)) / '(1,)type'.\n",
      "  np_resource = np.dtype([(\"resource\", np.ubyte, 1)])\n",
      "Using TensorFlow backend.\n"
     ]
    }
   ],
   "source": [
    "import tensorflow as tf\n",
    "import keras\n",
    "from keras.models import Sequential\n",
    "from keras.layers import Conv2D\n",
    "from keras.layers import MaxPooling2D\n",
    "from keras.layers import Flatten\n",
    "from keras.layers import Dense"
   ]
  },
  {
   "cell_type": "code",
   "execution_count": 2,
   "metadata": {},
   "outputs": [],
   "source": [
    "classifier = Sequential()\n",
    "\n",
    "classifier.add(Conv2D(32, (3, 3), input_shape = (64, 64, 3), activation = 'relu'))"
   ]
  },
  {
   "cell_type": "code",
   "execution_count": 3,
   "metadata": {},
   "outputs": [
    {
     "name": "stdout",
     "output_type": "stream",
     "text": [
      "WARNING:tensorflow:From C:\\Users\\sridi\\anaconda3\\envs\\tensorflow\\lib\\site-packages\\keras\\backend\\tensorflow_backend.py:4070: The name tf.nn.max_pool is deprecated. Please use tf.nn.max_pool2d instead.\n",
      "\n",
      "WARNING:tensorflow:From C:\\Users\\sridi\\anaconda3\\envs\\tensorflow\\lib\\site-packages\\tensorflow\\python\\ops\\nn_impl.py:180: add_dispatch_support.<locals>.wrapper (from tensorflow.python.ops.array_ops) is deprecated and will be removed in a future version.\n",
      "Instructions for updating:\n",
      "Use tf.where in 2.0, which has the same broadcast rule as np.where\n",
      "Model: \"sequential_1\"\n",
      "_________________________________________________________________\n",
      "Layer (type)                 Output Shape              Param #   \n",
      "=================================================================\n",
      "conv2d_1 (Conv2D)            (None, 62, 62, 32)        896       \n",
      "_________________________________________________________________\n",
      "max_pooling2d_1 (MaxPooling2 (None, 31, 31, 32)        0         \n",
      "_________________________________________________________________\n",
      "conv2d_2 (Conv2D)            (None, 29, 29, 32)        9248      \n",
      "_________________________________________________________________\n",
      "max_pooling2d_2 (MaxPooling2 (None, 14, 14, 32)        0         \n",
      "_________________________________________________________________\n",
      "flatten_1 (Flatten)          (None, 6272)              0         \n",
      "_________________________________________________________________\n",
      "dense_1 (Dense)              (None, 128)               802944    \n",
      "_________________________________________________________________\n",
      "dense_2 (Dense)              (None, 1)                 129       \n",
      "=================================================================\n",
      "Total params: 813,217\n",
      "Trainable params: 813,217\n",
      "Non-trainable params: 0\n",
      "_________________________________________________________________\n"
     ]
    }
   ],
   "source": [
    "classifier.add(MaxPooling2D(pool_size = (2, 2)))\n",
    "\n",
    "classifier.add(Conv2D(32, (3, 3), activation = 'relu'))\n",
    "classifier.add(MaxPooling2D(pool_size = (2, 2)))\n",
    "\n",
    "classifier.add(Flatten())\n",
    "\n",
    "classifier.add(Dense(activation = 'relu',units=128))\n",
    "classifier.add(Dense(activation = 'sigmoid',units=1))\n",
    "\n",
    "classifier.compile(optimizer = 'adam', loss = 'binary_crossentropy', metrics = ['accuracy'])\n",
    "\n",
    "classifier.summary()"
   ]
  },
  {
   "cell_type": "code",
   "execution_count": 4,
   "metadata": {},
   "outputs": [],
   "source": [
    "from keras.preprocessing.image import ImageDataGenerator\n",
    "\n",
    "train_datagen = ImageDataGenerator(rescale = 1./255,\n",
    "                                   shear_range = 0.2,\n",
    "                                   zoom_range = 0.2,\n",
    "                                   horizontal_flip = True)\n",
    "\n",
    "test_datagen = ImageDataGenerator(rescale = 1./255)\n"
   ]
  },
  {
   "cell_type": "code",
   "execution_count": 5,
   "metadata": {},
   "outputs": [
    {
     "name": "stdout",
     "output_type": "stream",
     "text": [
      "C:\\Users\\sridi\\OneDrive\\Documents\\Brain Tumor\n"
     ]
    }
   ],
   "source": [
    "import os \n",
    "os.getcwd()\n",
    "os.chdir('C:\\\\Users\\\\sridi\\\\OneDrive\\\\Documents\\\\Brain Tumor\\\\')\n",
    "print(os.getcwd())"
   ]
  },
  {
   "cell_type": "code",
   "execution_count": 6,
   "metadata": {},
   "outputs": [
    {
     "name": "stdout",
     "output_type": "stream",
     "text": [
      "Found 22 images belonging to 2 classes.\n",
      "Found 7 images belonging to 2 classes.\n"
     ]
    }
   ],
   "source": [
    "training_set = train_datagen.flow_from_directory('C:\\\\Users\\\\sridi\\\\OneDrive\\\\Documents\\\\Brain Tumor\\\\Brain_tumor\\\\train\\\\',\n",
    "                                                 target_size = (64, 64),\n",
    "                                                 batch_size = 32,\n",
    "                                                 class_mode = 'binary')\n",
    "\n",
    "test_set = test_datagen.flow_from_directory('C:\\\\Users\\\\sridi\\\\OneDrive\\\\Documents\\\\Brain Tumor\\\\Brain_tumor\\\\test\\\\',\n",
    "                                            target_size = (64, 64),\n",
    "                                            batch_size = 32,\n",
    "                                            class_mode = 'binary')\n"
   ]
  },
  {
   "cell_type": "code",
   "execution_count": null,
   "metadata": {
    "scrolled": false
   },
   "outputs": [
    {
     "name": "stdout",
     "output_type": "stream",
     "text": [
      "WARNING:tensorflow:From C:\\Users\\sridi\\anaconda3\\envs\\tensorflow\\lib\\site-packages\\keras\\backend\\tensorflow_backend.py:422: The name tf.global_variables is deprecated. Please use tf.compat.v1.global_variables instead.\n",
      "\n",
      "Epoch 1/100\n",
      "1/1 [==============================] - 0s 422ms/step - loss: 0.6827 - accuracy: 0.5909 - val_loss: 0.7348 - val_accuracy: 0.5714\n",
      "Epoch 2/100\n",
      "1/1 [==============================] - 0s 47ms/step - loss: 0.7571 - accuracy: 0.5909 - val_loss: 0.6930 - val_accuracy: 0.4286\n",
      "Epoch 3/100\n",
      "1/1 [==============================] - 0s 94ms/step - loss: 0.6696 - accuracy: 0.5909 - val_loss: 0.7553 - val_accuracy: 0.4286\n",
      "Epoch 4/100\n",
      "1/1 [==============================] - 0s 94ms/step - loss: 0.6916 - accuracy: 0.4545 - val_loss: 0.7457 - val_accuracy: 0.4286\n",
      "Epoch 5/100\n",
      "1/1 [==============================] - 0s 78ms/step - loss: 0.6495 - accuracy: 0.5909 - val_loss: 0.7170 - val_accuracy: 0.5714\n",
      "Epoch 6/100\n",
      "1/1 [==============================] - 0s 94ms/step - loss: 0.6173 - accuracy: 0.7273 - val_loss: 0.7027 - val_accuracy: 0.4286\n",
      "Epoch 7/100\n",
      "1/1 [==============================] - 0s 94ms/step - loss: 0.6344 - accuracy: 0.6818 - val_loss: 0.7004 - val_accuracy: 0.4286\n",
      "Epoch 8/100\n",
      "1/1 [==============================] - 0s 94ms/step - loss: 0.6041 - accuracy: 0.7273 - val_loss: 0.7084 - val_accuracy: 0.4286\n",
      "Epoch 9/100\n",
      "1/1 [==============================] - 0s 94ms/step - loss: 0.5776 - accuracy: 0.6818 - val_loss: 0.7340 - val_accuracy: 0.4286\n",
      "Epoch 10/100\n",
      "1/1 [==============================] - 0s 79ms/step - loss: 0.5775 - accuracy: 0.6818 - val_loss: 0.7918 - val_accuracy: 0.4286\n",
      "Epoch 11/100\n",
      "1/1 [==============================] - 0s 94ms/step - loss: 0.5407 - accuracy: 0.7727 - val_loss: 0.8934 - val_accuracy: 0.4286\n",
      "Epoch 12/100\n",
      "1/1 [==============================] - 0s 78ms/step - loss: 0.5973 - accuracy: 0.7727 - val_loss: 0.9876 - val_accuracy: 0.4286\n",
      "Epoch 13/100\n",
      "1/1 [==============================] - 0s 94ms/step - loss: 0.5252 - accuracy: 0.6818 - val_loss: 0.9646 - val_accuracy: 0.4286\n",
      "Epoch 14/100\n",
      "1/1 [==============================] - 0s 78ms/step - loss: 0.6058 - accuracy: 0.5455 - val_loss: 0.9030 - val_accuracy: 0.4286\n",
      "Epoch 15/100\n",
      "1/1 [==============================] - 0s 78ms/step - loss: 0.5938 - accuracy: 0.6818 - val_loss: 0.9000 - val_accuracy: 0.4286\n",
      "Epoch 16/100\n",
      "1/1 [==============================] - 0s 94ms/step - loss: 0.5092 - accuracy: 0.7727 - val_loss: 0.9605 - val_accuracy: 0.4286\n",
      "Epoch 17/100\n",
      "1/1 [==============================] - 0s 94ms/step - loss: 0.4301 - accuracy: 0.8182 - val_loss: 1.0748 - val_accuracy: 0.4286\n",
      "Epoch 18/100\n",
      "1/1 [==============================] - 0s 94ms/step - loss: 0.4243 - accuracy: 0.8636 - val_loss: 1.1866 - val_accuracy: 0.4286\n",
      "Epoch 19/100\n",
      "1/1 [==============================] - 0s 94ms/step - loss: 0.4774 - accuracy: 0.8182 - val_loss: 1.2191 - val_accuracy: 0.4286\n",
      "Epoch 20/100\n",
      "1/1 [==============================] - 0s 78ms/step - loss: 0.4484 - accuracy: 0.8182 - val_loss: 1.1165 - val_accuracy: 0.5714\n",
      "Epoch 21/100\n",
      "1/1 [==============================] - 0s 78ms/step - loss: 0.4715 - accuracy: 0.7273 - val_loss: 1.0902 - val_accuracy: 0.5714\n",
      "Epoch 22/100\n",
      "1/1 [==============================] - 0s 78ms/step - loss: 0.4763 - accuracy: 0.6818 - val_loss: 1.1587 - val_accuracy: 0.5714\n",
      "Epoch 23/100\n",
      "1/1 [==============================] - 0s 78ms/step - loss: 0.3579 - accuracy: 0.9091 - val_loss: 1.3311 - val_accuracy: 0.4286\n",
      "Epoch 24/100\n",
      "1/1 [==============================] - 0s 94ms/step - loss: 0.3847 - accuracy: 0.8636 - val_loss: 1.3414 - val_accuracy: 0.4286\n",
      "Epoch 25/100\n",
      "1/1 [==============================] - 0s 94ms/step - loss: 0.4196 - accuracy: 0.7273 - val_loss: 1.1838 - val_accuracy: 0.5714\n",
      "Epoch 26/100\n",
      "1/1 [==============================] - 0s 86ms/step - loss: 0.4154 - accuracy: 0.7273 - val_loss: 1.1252 - val_accuracy: 0.5714\n",
      "Epoch 27/100\n",
      "1/1 [==============================] - 0s 78ms/step - loss: 0.3796 - accuracy: 0.7273 - val_loss: 1.1352 - val_accuracy: 0.5714\n",
      "Epoch 28/100\n",
      "1/1 [==============================] - 0s 78ms/step - loss: 0.3710 - accuracy: 0.8182 - val_loss: 1.2487 - val_accuracy: 0.4286\n",
      "Epoch 29/100\n",
      "1/1 [==============================] - 0s 94ms/step - loss: 0.3544 - accuracy: 0.8182 - val_loss: 1.2735 - val_accuracy: 0.4286\n",
      "Epoch 30/100\n",
      "1/1 [==============================] - 0s 94ms/step - loss: 0.3162 - accuracy: 0.8636 - val_loss: 1.1582 - val_accuracy: 0.5714\n",
      "Epoch 31/100\n",
      "1/1 [==============================] - 0s 78ms/step - loss: 0.3553 - accuracy: 0.8636 - val_loss: 1.0508 - val_accuracy: 0.5714\n",
      "Epoch 32/100\n",
      "1/1 [==============================] - 0s 78ms/step - loss: 0.3779 - accuracy: 0.7273 - val_loss: 1.0542 - val_accuracy: 0.5714\n",
      "Epoch 33/100\n",
      "1/1 [==============================] - 0s 78ms/step - loss: 0.3242 - accuracy: 0.8636 - val_loss: 1.0719 - val_accuracy: 0.5714\n",
      "Epoch 34/100\n",
      "1/1 [==============================] - 0s 94ms/step - loss: 0.2962 - accuracy: 0.9545 - val_loss: 1.1343 - val_accuracy: 0.5714\n",
      "Epoch 35/100\n",
      "1/1 [==============================] - 0s 78ms/step - loss: 0.2931 - accuracy: 0.9091 - val_loss: 1.1902 - val_accuracy: 0.4286\n",
      "Epoch 36/100\n",
      "1/1 [==============================] - 0s 78ms/step - loss: 0.2251 - accuracy: 1.0000 - val_loss: 1.2235 - val_accuracy: 0.4286\n",
      "Epoch 37/100\n",
      "1/1 [==============================] - 0s 94ms/step - loss: 0.2756 - accuracy: 0.9545 - val_loss: 1.2214 - val_accuracy: 0.5714\n",
      "Epoch 38/100\n",
      "1/1 [==============================] - 0s 78ms/step - loss: 0.2526 - accuracy: 0.9545 - val_loss: 1.2537 - val_accuracy: 0.5714\n",
      "Epoch 39/100\n",
      "1/1 [==============================] - 0s 78ms/step - loss: 0.2566 - accuracy: 0.8636 - val_loss: 1.2844 - val_accuracy: 0.4286\n",
      "Epoch 40/100\n",
      "1/1 [==============================] - 0s 78ms/step - loss: 0.2339 - accuracy: 0.8636 - val_loss: 1.5643 - val_accuracy: 0.4286\n",
      "Epoch 41/100\n",
      "1/1 [==============================] - 0s 78ms/step - loss: 0.2465 - accuracy: 0.9091 - val_loss: 1.9955 - val_accuracy: 0.2857\n",
      "Epoch 42/100\n",
      "1/1 [==============================] - 0s 78ms/step - loss: 0.3676 - accuracy: 0.8182 - val_loss: 1.7544 - val_accuracy: 0.4286\n",
      "Epoch 43/100\n",
      "1/1 [==============================] - 0s 78ms/step - loss: 0.2294 - accuracy: 0.9091 - val_loss: 1.5510 - val_accuracy: 0.5714\n",
      "Epoch 44/100\n",
      "1/1 [==============================] - 0s 94ms/step - loss: 0.2040 - accuracy: 0.8636 - val_loss: 1.5347 - val_accuracy: 0.5714\n",
      "Epoch 45/100\n",
      "1/1 [==============================] - 0s 78ms/step - loss: 0.1309 - accuracy: 0.9545 - val_loss: 1.6413 - val_accuracy: 0.5714\n",
      "Epoch 46/100\n",
      "1/1 [==============================] - 0s 94ms/step - loss: 0.1292 - accuracy: 0.9545 - val_loss: 1.8769 - val_accuracy: 0.4286\n",
      "Epoch 47/100\n",
      "1/1 [==============================] - 0s 94ms/step - loss: 0.1488 - accuracy: 0.9091 - val_loss: 2.1534 - val_accuracy: 0.4286\n",
      "Epoch 48/100\n",
      "1/1 [==============================] - 0s 94ms/step - loss: 0.1689 - accuracy: 0.9091 - val_loss: 2.3587 - val_accuracy: 0.4286\n",
      "Epoch 49/100\n",
      "1/1 [==============================] - 0s 205ms/step - loss: 0.2244 - accuracy: 0.8636 - val_loss: 2.1878 - val_accuracy: 0.4286\n",
      "Epoch 50/100\n",
      "1/1 [==============================] - 0s 141ms/step - loss: 0.1938 - accuracy: 0.9545 - val_loss: 2.0761 - val_accuracy: 0.4286\n",
      "Epoch 51/100\n",
      "1/1 [==============================] - 0s 172ms/step - loss: 0.2682 - accuracy: 0.8182 - val_loss: 2.0682 - val_accuracy: 0.4286\n",
      "Epoch 52/100\n",
      "1/1 [==============================] - 0s 141ms/step - loss: 0.1025 - accuracy: 0.9545 - val_loss: 2.1365 - val_accuracy: 0.4286\n",
      "Epoch 53/100\n",
      "1/1 [==============================] - 0s 126ms/step - loss: 0.1030 - accuracy: 0.9545 - val_loss: 2.1872 - val_accuracy: 0.4286\n",
      "Epoch 54/100\n",
      "1/1 [==============================] - 0s 203ms/step - loss: 0.1904 - accuracy: 0.9091 - val_loss: 2.5916 - val_accuracy: 0.4286\n",
      "Epoch 55/100\n",
      "1/1 [==============================] - 0s 157ms/step - loss: 0.1353 - accuracy: 0.9545 - val_loss: 2.8767 - val_accuracy: 0.4286\n",
      "Epoch 56/100\n",
      "1/1 [==============================] - 0s 188ms/step - loss: 0.2291 - accuracy: 0.9091 - val_loss: 2.8930 - val_accuracy: 0.4286\n",
      "Epoch 57/100\n",
      "1/1 [==============================] - 0s 141ms/step - loss: 0.2308 - accuracy: 0.9091 - val_loss: 2.5780 - val_accuracy: 0.4286\n"
     ]
    },
    {
     "name": "stdout",
     "output_type": "stream",
     "text": [
      "Epoch 58/100\n",
      "1/1 [==============================] - 0s 187ms/step - loss: 0.1083 - accuracy: 0.9545 - val_loss: 2.2290 - val_accuracy: 0.4286\n",
      "Epoch 59/100\n",
      "1/1 [==============================] - 0s 142ms/step - loss: 0.1646 - accuracy: 0.9091 - val_loss: 2.0026 - val_accuracy: 0.5714\n",
      "Epoch 60/100\n",
      "1/1 [==============================] - 0s 189ms/step - loss: 0.1836 - accuracy: 0.9545 - val_loss: 1.9597 - val_accuracy: 0.4286\n",
      "Epoch 61/100\n",
      "1/1 [==============================] - 0s 221ms/step - loss: 0.1531 - accuracy: 0.9545 - val_loss: 2.0315 - val_accuracy: 0.4286\n",
      "Epoch 62/100\n",
      "1/1 [==============================] - 0s 190ms/step - loss: 0.1183 - accuracy: 0.9545 - val_loss: 2.1167 - val_accuracy: 0.4286\n",
      "Epoch 63/100\n",
      "1/1 [==============================] - 0s 126ms/step - loss: 0.1092 - accuracy: 0.9091 - val_loss: 2.1373 - val_accuracy: 0.4286\n",
      "Epoch 64/100\n",
      "1/1 [==============================] - 0s 181ms/step - loss: 0.1163 - accuracy: 0.9545 - val_loss: 2.1144 - val_accuracy: 0.4286\n",
      "Epoch 65/100\n",
      "1/1 [==============================] - 0s 126ms/step - loss: 0.1593 - accuracy: 0.9545 - val_loss: 1.9623 - val_accuracy: 0.4286\n",
      "Epoch 66/100\n",
      "1/1 [==============================] - 0s 220ms/step - loss: 0.1123 - accuracy: 0.9091 - val_loss: 1.8580 - val_accuracy: 0.4286\n",
      "Epoch 67/100\n",
      "1/1 [==============================] - 0s 141ms/step - loss: 0.1637 - accuracy: 0.9091 - val_loss: 1.8183 - val_accuracy: 0.4286\n",
      "Epoch 68/100\n",
      "1/1 [==============================] - 0s 156ms/step - loss: 0.1015 - accuracy: 0.9545 - val_loss: 1.7541 - val_accuracy: 0.4286\n",
      "Epoch 69/100\n",
      "1/1 [==============================] - 0s 173ms/step - loss: 0.1157 - accuracy: 0.9091 - val_loss: 1.7395 - val_accuracy: 0.4286\n",
      "Epoch 70/100\n",
      "1/1 [==============================] - 0s 142ms/step - loss: 0.1046 - accuracy: 0.9545 - val_loss: 1.7695 - val_accuracy: 0.4286\n",
      "Epoch 71/100\n",
      "1/1 [==============================] - 0s 172ms/step - loss: 0.0620 - accuracy: 1.0000 - val_loss: 1.8775 - val_accuracy: 0.4286\n",
      "Epoch 72/100\n",
      "1/1 [==============================] - 0s 146ms/step - loss: 0.1147 - accuracy: 0.9545 - val_loss: 1.9011 - val_accuracy: 0.4286\n",
      "Epoch 73/100\n",
      "1/1 [==============================] - 0s 174ms/step - loss: 0.0979 - accuracy: 0.9545 - val_loss: 1.8591 - val_accuracy: 0.4286\n",
      "Epoch 74/100\n",
      "1/1 [==============================] - 0s 182ms/step - loss: 0.1237 - accuracy: 0.9545 - val_loss: 1.9486 - val_accuracy: 0.4286\n",
      "Epoch 75/100\n",
      "1/1 [==============================] - 0s 125ms/step - loss: 0.1463 - accuracy: 0.9091 - val_loss: 2.0402 - val_accuracy: 0.4286\n",
      "Epoch 76/100\n",
      "1/1 [==============================] - 0s 201ms/step - loss: 0.1683 - accuracy: 0.9091 - val_loss: 1.8625 - val_accuracy: 0.4286\n",
      "Epoch 77/100\n",
      "1/1 [==============================] - 0s 128ms/step - loss: 0.1004 - accuracy: 0.9545 - val_loss: 1.8379 - val_accuracy: 0.4286\n",
      "Epoch 78/100\n",
      "1/1 [==============================] - 0s 184ms/step - loss: 0.0732 - accuracy: 1.0000 - val_loss: 1.8465 - val_accuracy: 0.5714\n"
     ]
    }
   ],
   "source": [
    "classifier.fit_generator(training_set, steps_per_epoch=None, epochs=100, verbose=1, callbacks=None, validation_data=test_set, validation_steps=None, class_weight=None, max_queue_size=10, workers=1, use_multiprocessing=False, shuffle=True, initial_epoch=0)\n",
    "     "
   ]
  },
  {
   "cell_type": "code",
   "execution_count": null,
   "metadata": {},
   "outputs": [],
   "source": [
    "import numpy as np\n",
    "from keras.preprocessing import image\n",
    "test_image = image.load_img('C:\\\\Users\\\\sridi\\\\OneDrive\\\\Documents\\\\Brain Tumor\\\\TestImages\\\\brain-tumors-fig2_large.jpg', target_size = (64, 64))\n",
    "test_image"
   ]
  },
  {
   "cell_type": "code",
   "execution_count": null,
   "metadata": {},
   "outputs": [],
   "source": [
    "test_image = image.img_to_array(test_image)\n",
    "\n",
    "test_image = np.expand_dims(test_image, axis = 0)\n",
    "test_image"
   ]
  },
  {
   "cell_type": "code",
   "execution_count": null,
   "metadata": {},
   "outputs": [],
   "source": [
    "result = classifier.predict(test_image)\n",
    "result"
   ]
  },
  {
   "cell_type": "code",
   "execution_count": null,
   "metadata": {},
   "outputs": [],
   "source": [
    "training_set.class_indices"
   ]
  },
  {
   "cell_type": "code",
   "execution_count": null,
   "metadata": {},
   "outputs": [],
   "source": [
    "if result[0][0] == 0:\n",
    "    prediction = 'Benign'\n",
    "else:\n",
    "    prediction = 'Malignent'\n",
    "print(\"Detected tumor type is %s\"%prediction)\n"
   ]
  },
  {
   "cell_type": "code",
   "execution_count": null,
   "metadata": {},
   "outputs": [],
   "source": []
  }
 ],
 "metadata": {
  "kernelspec": {
   "display_name": "Python 3 (ipykernel)",
   "language": "python",
   "name": "python3"
  },
  "language_info": {
   "codemirror_mode": {
    "name": "ipython",
    "version": 3
   },
   "file_extension": ".py",
   "mimetype": "text/x-python",
   "name": "python",
   "nbconvert_exporter": "python",
   "pygments_lexer": "ipython3",
   "version": "3.7.6"
  }
 },
 "nbformat": 4,
 "nbformat_minor": 2
}
